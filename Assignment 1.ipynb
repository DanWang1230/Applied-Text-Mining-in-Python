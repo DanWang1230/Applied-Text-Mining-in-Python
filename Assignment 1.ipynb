{
 "cells": [
  {
   "cell_type": "markdown",
   "metadata": {},
   "source": [
    "---\n",
    "\n",
    "_You are currently looking at **version 1.1** of this notebook. To download notebooks and datafiles, as well as get help on Jupyter notebooks in the Coursera platform, visit the [Jupyter Notebook FAQ](https://www.coursera.org/learn/python-text-mining/resources/d9pwm) course resource._\n",
    "\n",
    "---"
   ]
  },
  {
   "cell_type": "markdown",
   "metadata": {},
   "source": [
    "# Assignment 1\n",
    "\n",
    "In this assignment, you'll be working with messy medical data and using regex to extract relevant infromation from the data. \n",
    "\n",
    "Each line of the `dates.txt` file corresponds to a medical note. Each note has a date that needs to be extracted, but each date is encoded in one of many formats.\n",
    "\n",
    "The goal of this assignment is to correctly identify all of the different date variants encoded in this dataset and to properly normalize and sort the dates. \n",
    "\n",
    "Here is a list of some of the variants you might encounter in this dataset:\n",
    "* 04/20/2009; 04/20/09; 4/20/09; 4/3/09\n",
    "* Mar-20-2009; Mar 20, 2009; March 20, 2009;  Mar. 20, 2009; Mar 20 2009;\n",
    "* 20 Mar 2009; 20 March 2009; 20 Mar. 2009; 20 March, 2009\n",
    "* Mar 20th, 2009; Mar 21st, 2009; Mar 22nd, 2009\n",
    "* Feb 2009; Sep 2009; Oct 2010\n",
    "* 6/2008; 12/2009\n",
    "* 2009; 2010\n",
    "\n",
    "Once you have extracted these date patterns from the text, the next step is to sort them in ascending chronological order accoring to the following rules:\n",
    "* Assume all dates in xx/xx/xx format are mm/dd/yy\n",
    "* Assume all dates where year is encoded in only two digits are years from the 1900's (e.g. 1/5/89 is January 5th, 1989)\n",
    "* If the day is missing (e.g. 9/2009), assume it is the first day of the month (e.g. September 1, 2009).\n",
    "* If the month is missing (e.g. 2010), assume it is the first of January of that year (e.g. January 1, 2010).\n",
    "* Watch out for potential typos as this is a raw, real-life derived dataset.\n",
    "\n",
    "With these rules in mind, find the correct date in each note and return a pandas Series in chronological order of the original Series' indices.\n",
    "\n",
    "For example if the original series was this:\n",
    "\n",
    "    0    1999\n",
    "    1    2010\n",
    "    2    1978\n",
    "    3    2015\n",
    "    4    1985\n",
    "\n",
    "Your function should return this:\n",
    "\n",
    "    0    2\n",
    "    1    4\n",
    "    2    0\n",
    "    3    1\n",
    "    4    3\n",
    "\n",
    "Your score will be calculated using [Kendall's tau](https://en.wikipedia.org/wiki/Kendall_rank_correlation_coefficient), a correlation measure for ordinal data.\n",
    "\n",
    "*This function should return a Series of length 500 and dtype int.*"
   ]
  },
  {
   "cell_type": "code",
   "execution_count": 3,
   "metadata": {
    "collapsed": true
   },
   "outputs": [],
   "source": [
    "import pandas as pd\n",
    "\n",
    "doc = []\n",
    "with open('dates.txt') as file:\n",
    "    for line in file:\n",
    "        doc.append(line)\n",
    "\n",
    "# df = pd.Series(doc)\n",
    "# df.head(10)"
   ]
  },
  {
   "cell_type": "code",
   "execution_count": 49,
   "metadata": {
    "collapsed": true
   },
   "outputs": [],
   "source": [
    "def date_sorter():\n",
    "    \n",
    "    # Your code here\n",
    "    df = pd.DataFrame(doc, columns=['text'])\n",
    "    \n",
    "    df1 = df['text'].str.extractall(r'(\\d{1,2})[\\/|\\-](\\d{1,2})[\\/|\\-](\\d{4}|\\d{2})(?=\\D)')\n",
    "    df1.index = df1.index.droplevel(1)\n",
    "    df1.rename(columns={0:'month', 1:'day', 2:'year'}, inplace=True)\n",
    "    \n",
    "    df_post1 = df.drop(df1.index.get_level_values(0).tolist())\n",
    "    \n",
    "    df2 = df_post1['text'].str.extractall(r'(Jan|Feb|Mar|Apr|May|Jun|Jul|Aug|Sep|Oct|Nov|Dec)[a-z]*(?: |-|\\.|,)+(\\d{1,2})(?: |-|\\.|,)+(\\d{4}|\\d{2})')\n",
    "    df2.index = df2.index.droplevel(1)\n",
    "    df2.rename(columns={0:'month', 1:'day', 2:'year'}, inplace=True)\n",
    "    \n",
    "    df_post2 = df_post1.drop(df2.index.get_level_values(0).tolist())\n",
    "    \n",
    "    df3 = df_post2['text'].str.extractall(r'(\\d{1,2})(?: |-|\\.|,)+(Jan|Feb|Mar|Apr|May|Jun|Jul|Aug|Sep|Oct|Nov|Dec)[a-z]*(?: |-|\\.|,)+(\\d{4}|\\d{2})')\n",
    "    df3.index = df3.index.droplevel(1)\n",
    "    df3.rename(columns={0:'day', 1:'month', 2:'year'}, inplace=True)\n",
    "    \n",
    "    df_post3 = df_post2.drop(df3.index.get_level_values(0).tolist())\n",
    "    \n",
    "    df4 = df_post3['text'].str.extractall(r'(Jan|Feb|Mar|Apr|May|Jun|Jul|Aug|Sep|Oct|Nov|Dec)[a-z]*(?: |-|\\.|,)+(\\d{4})')\n",
    "    df4.index = df4.index.droplevel(1)\n",
    "    df4.rename(columns={0:'month', 1:'year'}, inplace=True)\n",
    "    df4['day'] = 1\n",
    "    \n",
    "    df_post4 = df_post3.drop(df4.index.get_level_values(0).tolist())\n",
    "    \n",
    "    df5 = df_post4['text'].str.extractall(r'(\\d{1,2})\\/(\\d{4}|\\d{2})')\n",
    "    df5.index = df5.index.droplevel(1)\n",
    "    df5.rename(columns={0:'month', 1:'year'}, inplace=True)\n",
    "    df5['day'] = 1\n",
    "    \n",
    "    df_post5 = df_post4.drop(df5.index.get_level_values(0).tolist())\n",
    "    \n",
    "    df6 = df_post5['text'].str.extractall(r'(\\d{4})')\n",
    "    df6.index = df6.index.droplevel(1)\n",
    "    df6.rename(columns={0:'year'}, inplace=True)\n",
    "    df6['month'] = 1\n",
    "    df6['day'] = 1\n",
    "    \n",
    "    df_final = pd.concat([df1, df2, df3, df4, df5, df6])\n",
    "    df_final['year'] = df_final['year'].apply(lambda x: '19' + x if len(x) == 2 else x)\n",
    "    \n",
    "    dic = {'Jan':1, 'Feb':2, 'Mar':3, 'Apr':4, 'May':5, 'Jun':6, 'Jul':7, 'Aug':8, 'Sep':9, 'Oct':10, 'Nov':11, 'Dec':12,\n",
    "           'January':1, 'February':2, 'March':3, 'April':4, 'May':5, 'June':6, 'July':7, 'August':8, \n",
    "           'September':9, 'October':10, 'November':11, 'December':12}\n",
    "\n",
    "    df_final['month'] = df_final['month'].apply(lambda x: dic[x] if x in dic else x)\n",
    "    \n",
    "    df_final = df_final.astype({'year':int, 'month':int, 'day':int})\n",
    "    df_final = df_final.sort_values(by=['year', 'month', 'day'], kind='mergesort') \n",
    "    df_final = df_final.reset_index()\n",
    "    \n",
    "    return df_final['index'] # Your answer here"
   ]
  }
 ],
 "metadata": {
  "coursera": {
   "course_slug": "python-text-mining",
   "graded_item_id": "LvcWI",
   "launcher_item_id": "krne9",
   "part_id": "Mkp1I"
  },
  "kernelspec": {
   "display_name": "Python 3",
   "language": "python",
   "name": "python3"
  },
  "language_info": {
   "codemirror_mode": {
    "name": "ipython",
    "version": 3
   },
   "file_extension": ".py",
   "mimetype": "text/x-python",
   "name": "python",
   "nbconvert_exporter": "python",
   "pygments_lexer": "ipython3",
   "version": "3.6.2"
  }
 },
 "nbformat": 4,
 "nbformat_minor": 2
}
